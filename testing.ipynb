{
 "cells": [
  {
   "cell_type": "code",
   "execution_count": 1,
   "metadata": {},
   "outputs": [
    {
     "name": "stderr",
     "output_type": "stream",
     "text": [
      "{\"message\": \"PROJ_ROOT path is: /Users/runtime/labs\"}\n",
      "DEBUG:urllib3.connectionpool:Starting new HTTPS connection (1): api.github.com:443\n",
      "DEBUG:urllib3.connectionpool:https://api.github.com:443 \"GET /repos/runtimerevolution/labs/issues?state=open&per_page=100 HTTP/11\" 401 95\n",
      "ERROR:labs.github.github:HTTP Request failed: 401 Client Error: Unauthorized for url: https://api.github.com/repos/runtimerevolution/labs/issues?state=open&per_page=100\n",
      "DEBUG:urllib3.connectionpool:Starting new HTTPS connection (1): api.github.com:443\n",
      "DEBUG:urllib3.connectionpool:https://api.github.com:443 \"PATCH /repos/runtimerevolution/labs/issues/22 HTTP/11\" 401 95\n"
     ]
    }
   ],
   "source": [
    "\n",
    "\n",
    "from labs.config import GITHUB_ACCESS_TOKEN, GITHUB_API_BASE_URL, GITHUB_OWNER, GITHUB_REPO, GITHUB_USERNAME\n",
    "from labs.github.github import GithubRequests\n",
    "\n",
    "\n",
    "access_token = 'xxxxx'\n",
    "api_base_url = GITHUB_API_BASE_URL\n",
    "owner = GITHUB_OWNER\n",
    "repo = GITHUB_REPO\n",
    "username = GITHUB_USERNAME\n",
    "\n",
    "git=GithubRequests(access_token,owner,repo)\n",
    "issues=git.list_issues(assignee='all')\n",
    "# issue=git.get_issue(issue_number='22')\n",
    "# print(issue['state'])\n",
    "response=git.change_issue_status(issue_number='22', state='open')\n",
    "# issue=git.get_issue(issue_number='22')\n",
    "# print(issue['state'])\n",
    "\n",
    "\n"
   ]
  },
  {
   "cell_type": "code",
   "execution_count": null,
   "metadata": {},
   "outputs": [],
   "source": [
    "# access_token = GITHUB_ACCESS_TOKEN\n",
    "api_base_url = GITHUB_API_BASE_URL\n",
    "owner = GITHUB_OWNER\n",
    "repo = GITHUB_REPO\n",
    "username = GITHUB_USERNAME\n",
    "\n",
    "git=GithubRequests(access_token,owner,repo)\n",
    "response=git.commit_changes(message=\"testing\", branch_name=\"testing\", file_paths=[\"labs/config.py\"])"
   ]
  },
  {
   "cell_type": "code",
   "execution_count": null,
   "metadata": {},
   "outputs": [],
   "source": [
    "git.create_pull_request(head=\"testing\",title=\"Testing PR Creation\",body= \"Let's see if we can add a body\")"
   ]
  }
 ],
 "metadata": {
  "kernelspec": {
   "display_name": "Python 3",
   "language": "python",
   "name": "python3"
  },
  "language_info": {
   "codemirror_mode": {
    "name": "ipython",
    "version": 3
   },
   "file_extension": ".py",
   "mimetype": "text/x-python",
   "name": "python",
   "nbconvert_exporter": "python",
   "pygments_lexer": "ipython3",
   "version": "3.11.9"
  }
 },
 "nbformat": 4,
 "nbformat_minor": 2
}
