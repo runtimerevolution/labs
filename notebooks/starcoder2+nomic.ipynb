{
 "cells": [
  {
   "cell_type": "markdown",
   "metadata": {},
   "source": [
    "## Add source code folder to PATH"
   ]
  },
  {
   "cell_type": "code",
   "execution_count": 17,
   "metadata": {},
   "outputs": [],
   "source": [
    "import os\n",
    "import sys\n",
    "\n",
    "sys.path.append(os.path.abspath(\"../labs\"))"
   ]
  },
  {
   "cell_type": "markdown",
   "metadata": {},
   "source": [
    "## Django setup"
   ]
  },
  {
   "cell_type": "code",
   "execution_count": 18,
   "metadata": {},
   "outputs": [],
   "source": [
    "from django.core.wsgi import get_wsgi_application\n",
    "\n",
    "os.environ.setdefault(\"DJANGO_SETTINGS_MODULE\", \"config.settings\")\n",
    "os.environ.setdefault(\"DJANGO_ALLOW_ASYNC_UNSAFE\", \"True\")\n",
    "\n",
    "os.environ.setdefault(\"LOCAL_LLM_HOST\", \"http://localhost:11434\")\n",
    "os.environ.setdefault(\"DATABASE_HOST\", \"localhost\")\n",
    "\n",
    "application = get_wsgi_application()"
   ]
  },
  {
   "cell_type": "code",
   "execution_count": 19,
   "metadata": {},
   "outputs": [],
   "source": [
    "EMBEDDER_MODEL_NAME = \"nomic-embed-text:latest\"\n",
    "LLM_MODEL_NAME = \"starcoder2:15b-instruct\"\n",
    "\n",
    "REPO = \"/Users/jsilva/Documents/revent/revent-api\"\n",
    "ISSUE = \"Add created_at and updated_at field to User model.\""
   ]
  },
  {
   "cell_type": "markdown",
   "metadata": {},
   "source": [
    "## Embeddings"
   ]
  },
  {
   "cell_type": "code",
   "execution_count": 20,
   "metadata": {},
   "outputs": [
    {
     "name": "stderr",
     "output_type": "stream",
     "text": [
      "DEBUG:httpx:load_ssl_context verify=True cert=None trust_env=True http2=False\n",
      "DEBUG:httpx:load_verify_locations cafile='/Users/jsilva/Library/Caches/pypoetry/virtualenvs/labs-_xSB_XeG-py3.12/lib/python3.12/site-packages/certifi/cacert.pem'\n"
     ]
    }
   ],
   "source": [
    "from embeddings.embedder import Embedder\n",
    "from embeddings.ollama import OllamaEmbedder\n",
    "\n",
    "embedder = Embedder(OllamaEmbedder, EMBEDDER_MODEL_NAME)"
   ]
  },
  {
   "cell_type": "markdown",
   "metadata": {},
   "source": [
    "## Vectorize"
   ]
  },
  {
   "cell_type": "code",
   "execution_count": 21,
   "metadata": {},
   "outputs": [
    {
     "name": "stderr",
     "output_type": "stream",
     "text": [
      "DEBUG:embeddings.vectorizers.chunk_vectorizer:Loading and splitting all documents into chunks.\n",
      "DEBUG:embeddings.vectorizers.chunk_vectorizer:Embedding all repo documents.\n",
      "DEBUG:httpcore.connection:connect_tcp.started host='localhost' port=11434 local_address=None timeout=None socket_options=None\n",
      "DEBUG:httpcore.connection:connect_tcp.complete return_value=<httpcore._backends.sync.SyncStream object at 0x1463d55e0>\n",
      "DEBUG:httpcore.http11:send_request_headers.started request=<Request [b'POST']>\n",
      "DEBUG:httpcore.http11:send_request_headers.complete\n",
      "DEBUG:httpcore.http11:send_request_body.started request=<Request [b'POST']>\n",
      "DEBUG:httpcore.http11:send_request_body.complete\n",
      "DEBUG:httpcore.http11:receive_response_headers.started request=<Request [b'POST']>\n",
      "DEBUG:httpcore.http11:receive_response_headers.complete return_value=(b'HTTP/1.1', 200, b'OK', [(b'Content-Type', b'application/json; charset=utf-8'), (b'Date', b'Tue, 26 Nov 2024 11:34:58 GMT'), (b'Transfer-Encoding', b'chunked')])\n",
      "INFO:httpx:HTTP Request: POST http://localhost:11434/api/embed \"HTTP/1.1 200 OK\"\n",
      "DEBUG:httpcore.http11:receive_response_body.started request=<Request [b'POST']>\n",
      "DEBUG:httpcore.http11:receive_response_body.complete\n",
      "DEBUG:httpcore.http11:response_closed.started\n",
      "DEBUG:httpcore.http11:response_closed.complete\n",
      "DEBUG:embeddings.vectorizers.chunk_vectorizer:Storing all embeddings.\n"
     ]
    }
   ],
   "source": [
    "from embeddings.vectorizers.base import Vectorizer\n",
    "from embeddings.vectorizers.chunk_vectorizer import ChunkVectorizer\n",
    "\n",
    "Vectorizer(ChunkVectorizer, embedder).vectorize_to_database(None, repo_destination=REPO)"
   ]
  },
  {
   "cell_type": "markdown",
   "metadata": {},
   "source": [
    "## Embeddings:lookup"
   ]
  },
  {
   "cell_type": "code",
   "execution_count": 22,
   "metadata": {},
   "outputs": [
    {
     "name": "stderr",
     "output_type": "stream",
     "text": [
      "DEBUG:httpcore.http11:send_request_headers.started request=<Request [b'POST']>\n",
      "DEBUG:httpcore.http11:send_request_headers.complete\n",
      "DEBUG:httpcore.http11:send_request_body.started request=<Request [b'POST']>\n",
      "DEBUG:httpcore.http11:send_request_body.complete\n",
      "DEBUG:httpcore.http11:receive_response_headers.started request=<Request [b'POST']>\n",
      "DEBUG:httpcore.http11:receive_response_headers.complete return_value=(b'HTTP/1.1', 200, b'OK', [(b'Content-Type', b'application/json; charset=utf-8'), (b'Date', b'Tue, 26 Nov 2024 11:34:59 GMT'), (b'Transfer-Encoding', b'chunked')])\n",
      "INFO:httpx:HTTP Request: POST http://localhost:11434/api/embed \"HTTP/1.1 200 OK\"\n",
      "DEBUG:httpcore.http11:receive_response_body.started request=<Request [b'POST']>\n",
      "DEBUG:httpcore.http11:receive_response_body.complete\n",
      "DEBUG:httpcore.http11:response_closed.started\n",
      "DEBUG:httpcore.http11:response_closed.complete\n"
     ]
    }
   ],
   "source": [
    "embeddings_results = embedder.retrieve_embeddings(ISSUE, REPO)\n",
    "\n",
    "similar_embeddings = [(embedding.repository, embedding.file_path, embedding.text) for embedding in embeddings_results]"
   ]
  },
  {
   "cell_type": "code",
   "execution_count": 23,
   "metadata": {},
   "outputs": [
    {
     "data": {
      "text/plain": [
       "[('/Users/jsilva/Documents/revent/revent-api',\n",
       "  '/Users/jsilva/Documents/revent/revent-api/photo/migrations/0005_add_timestamps_to_user.py',\n",
       "  \"from django.db import migrations, models\\n\\nclass Migration(migrations.Migration):\\n\\n    dependencies = [\\n        ('photo', '0004_alter_contest_prize'),\\n    ]\\n\\n    operations = [\\n        migrations.AddField(\\n            model_name='user',\\n            name='created_at',\\n            field=models.DateTimeField(auto_now_add=True),\\n        ),\\n        migrations.AddField(\\n            model_name='user',\\n            name='updated_at',\\n            field=models.DateTimeField(auto_now=True),\\n        ),\\n    ]\"),\n",
       " ('/Users/jsilva/Documents/revent/revent-api',\n",
       "  '/Users/jsilva/Documents/revent/revent-api/pytest.ini',\n",
       "  '[pytest]\\nDJANGO_SETTINGS_MODULE = config.settings'),\n",
       " ('/Users/jsilva/Documents/revent/revent-api',\n",
       "  '/Users/jsilva/Documents/revent/revent-api/Dockerfile',\n",
       "  'FROM python:3.10.13 AS base\\n\\n# Configure volume/workdir\\nRUN mkdir /code\\nWORKDIR /code/\\nCOPY pyproject.toml /code/\\nCOPY poetry.lock /code/\\n\\nFROM base as deps\\n\\n# set environment variables\\nENV PYTHONDONTWRITEBYTECODE 1\\nENV PYTHONUNBUFFERED TRUE\\nENV PYTHONPATH=/code/:/usr/lib/python3.10.2/site-packages\\n\\n# Configure volume/workdir\\nWORKDIR /code/\\n\\n# Install poetry\\nRUN pip install --upgrade pip\\nRUN pip install --no-cache-dir poetry\\n\\n# Add and install requirements\\nRUN poetry config virtualenvs.create false && poetry install --only main --no-interaction --no-ansi\\n\\nFROM deps\\n\\nWORKDIR /code/\\nCOPY . /code/\\n\\nRUN mkdir static\\nRUN SECRET_KEY=build_random_secret python manage.py collectstatic\\n\\n# Create a user with UID 1000 and GID 1000\\nRUN groupadd -g 1000 appgroup && \\\\\\n    useradd -r -u 1000 -g appgroup appuser\\n# Switch to this user\\nUSER 1000:1000\\n\\n# copy project\\nCOPY . .'),\n",
       " ('/Users/jsilva/Documents/revent/revent-api',\n",
       "  '/Users/jsilva/Documents/revent/revent-api/Makefile',\n",
       "  '.DEFAULT_GOAL := help\\n\\n# include .env\\nexport\\n\\nhelp:\\n\\t@grep -E \\'^[a-zA-Z0-9 -]+:.*#\\'  Makefile | sort | while read -r l; do printf \"\\\\033[1;32m$$(echo $$l | cut -f 1 -d\\':\\')\\\\033[00m:$$(echo $$l | cut -f 2- -d\\'#\\')\\\\n\"; done\\n\\n# Pass arguments to the test command\\nifeq (test,$(firstword $(MAKECMDGOALS)))\\n  TEST_ARGS := $(wordlist 2,$(words $(MAKECMDGOALS)),$(MAKECMDGOALS))\\n  $(eval $(TEST_ARGS):;@:)\\nendif\\n\\nup: # Start the docker containers\\n\\t$(eval include .env/docker/main.env)\\n\\tdocker compose up -d\\n\\ndown: # Stop the docker containers\\n\\t$(eval include .env/docker/main.env)\\n\\tdocker compose down -t 1\\n\\npre: # Run pre-commit\\n\\t$(eval include .env/local/api.env)\\n\\tpre-commit run --all-files\\n\\n\\nsetup: up install migrate # Setup\\n\\ncoverage: # Get test coverage\\n\\t$(eval include .env/local/api.env)\\n\\tcoverage erase && coverage run manage.py test && coverage html --skip-empty --skip-covered\\n\\topen htmlcov/index.html\\n\\ntest: # Test all django apps OR pass testing target like \"smart_replenishment\" or \"planner_requests.tests.csv_file\"\\n\\t$(eval include .env/local/api.env)\\n\\tpoetry run python manage.py test --no-input $(TEST_ARGS)\\n\\npopulate: # Generate dummy data\\n\\t$(eval include .env/local/api.env)\\n\\tpoetry run python launch.py\\n\\n# Admin\\nsuperuser: createsuperuser # Create admin user\\nrun: runserver # Run the django server\\nmigrations: makemigrations # Create new django migrations\\nmigrate: # Migrate all new django migrations\\nshell: # Launch python shell\\nurls: show_urls # Show server urls\\n\\nlocal_commands = createsuperuser runserver makemigrations migrate shell show_urls\\n\\n$(local_commands):\\nifeq ($(or $(env),local),local)\\n\\t$(eval include .env/local/api.env)\\n\\tpython manage.py $@\\nendif\\nifeq ($(env),docker)\\n\\t$(eval include .env/docker/main.env)\\n\\tdocker-compose exec revent-api python manage.py $@\\nendif'),\n",
       " ('/Users/jsilva/Documents/revent/revent-api',\n",
       "  '/Users/jsilva/Documents/revent/revent-api/Makefile',\n",
       "  'build: # Build docker images and store them in ECR\\n\\t$(eval include .env/terraform/main.env)\\n\\taws ecr get-login-password --region ${AWS_DEFAULT_REGION} | docker login --username AWS --password-stdin ${AWS_ECR_URL}\\n\\tdocker buildx build --platform=linux/arm64 -t ${TF_VAR_docker_url_api} . && docker push ${TF_VAR_docker_url_api}\\n\\tcd ${APP_PATH} && docker buildx build --platform=linux/arm64 -t ${TF_VAR_docker_url_app} . && docker push ${TF_VAR_docker_url_app}\\n\\tcd nginx && docker buildx build --platform=linux/arm64 -t ${TF_VAR_docker_url_nginx} . && docker push ${TF_VAR_docker_url_nginx}\\n\\ninit: # Use terraform to initialize the project\\nplan: # Use terraform to view changes made to the infrastructure\\napply: # Use terraform to create or modify the infrastructure\\ndestroy: # Use terraform to destroy the infrastructure\\n\\nterraform_commands = init plan apply destroy\\n\\n$(terraform_commands):\\n\\t$(eval include .env/terraform/main.env)\\n\\t$(eval include .env/terraform/$(or $(env),dev)/main.env)\\n\\tcd terraform && terraform $@\\n\\nbash: # Open a shell on the container running the API on ECS\\nifdef task\\n\\t$(eval include .env/terraform/main.env)\\n\\taws ecs execute-command --region ${AWS_DEFAULT_REGION} --cluster revent-cluster --task $(task) --container revent-api --command \"/bin/bash\" --interactive\\nendif'),\n",
       " ('/Users/jsilva/Documents/revent/revent-api',\n",
       "  '/Users/jsilva/Documents/revent/revent-api/pyproject.toml',\n",
       "  '[tool.poetry]\\nname = \"photo-contest-api\"\\nversion = \"0.1.0\"\\ndescription = \"\"\\nauthors = [\"JVerissimo <j.verissimo@runtime-revolution.com>\"]\\n\\n[tool.poetry.dependencies]\\npython = \"^3.10\"\\nDjango = \"^4.2\"\\nstrawberry-graphql = \"^0.171.1\"\\ndjango-environ = \"^0.8.1\"\\nisort = \"^5.10.1\"\\nstrawberry-graphql-django = \"^0.9.4\"\\nblack = \"^23.3.0\"\\nflake8 = \"^6.0.0\"\\npre-commit = \"^3.2.2\"\\ndjango-pytest = \"^0.2.0\"\\ndjango-debug-toolbar = \"^4.0.0\"\\nstrawberry-django-plus = \"^2.2.0\"\\npytest = \"^7.3.1\"\\npsycopg = \"^3.1.10\"\\nfactory-boy = \"^3.2.1\"\\npsycopg2-binary = \"^2.9.6\"\\npytz = \"^2023.3\"\\ndjango-cors-headers = \"^4.0.0\"\\npytest-django = \"^4.5.2\"\\ndjango-storages = \"^1.14\"\\npillow = \"^10.0.1\"\\nboto3 = \"^1.28.51\"\\ncoverage = \"^7.3.1\"\\ndjango-extensions = \"^3.2.3\"\\ndjangorestframework = \"^3.14.0\"\\nvcrpy = \"^5.1.0\"\\ndjangorestframework-simplejwt = \"^5.3.0\"\\ndjoser = \"^2.2.2\"\\npython-decouple = \"^3.8\"\\nfastapi = \"^0.104.1\"\\nterraform-local = \"^0.16.1\"\\nclick = \"^8.1.7\"\\nuvicorn = \"^0.27.0\"\\nwhitenoise = \"^6.7.0\"\\n\\n[tool.poetry.dev-dependencies]\\n\\n[build-system]\\nrequires = [\"poetry-core>=1.0.0\"]\\nbuild-backend = \"poetry.core.masonry.api\"\\n\\n[tool.isort]\\nprofile = \"black\"\\ncombine_as_imports = true'),\n",
       " ('/Users/jsilva/Documents/revent/revent-api',\n",
       "  '/Users/jsilva/Documents/revent/revent-api/README.md',\n",
       "  '# PHOTO CONTEST API 📸\\n\\n**This README will get you started and guide you through the project**\\n\\n## Description\\n\\nPhoto contest API is an API for the Runtime Revolution photo contest that takes place every month and aims to allow a fair and easy voting for all participants.\\n\\n## Table of Contents\\n\\n- [PHOTO CONTEST API 📸](#photo-contest-api-)\\n  - [Description](#description)\\n  - [Table of Contents](#table-of-contents)\\n  - [Setup Time](#setup-time)\\n    - [Prerequisites -](#prerequisites--)\\n    - [Configuration - Setting your python version](#configuration---setting-your-python-version)\\n    - [Configuration - Using poetry for package and dependency management](#configuration---using-poetry-for-package-and-dependency-management)\\n    - [Running the Project](#running-the-project)\\n  - [Running Tests](#running-tests)\\n    - [TLDR;](#tldr)\\n    - [Setting up localstack s3 to fake Aws](#setting-up-localstack-s3-to-fake-aws)\\n    - [Nice to Have](#nice-to-have)\\n      - [Direnv](#direnv)\\n  - [Guidelines](#guidelines)\\n    - [Branch Naming](#branch-naming)\\n  - [Who do I talk to?](#who-do-i-talk-to)\\n  - [Data model](#data-model)\\n  - [FAQ](#faq)\\n    - [Macos m1](#macos-m1)\\n      - [gdal related error](#gdal-related-error)\\n\\n## Setup Time\\n\\n### Prerequisites -\\n\\nInstall [pyenv](https://github.com/pyenv/pyenv) and [poetry](https://python-poetry.org/docs/#installation)\\n\\nIf you have this one already, you can jump to the next section [(Configuration - Setting your python version)](#configuration---setting-your-python-version).\\n\\n### Configuration - Setting your python version\\n\\n- Now that you have pyenv, install the version we want to use:\\n\\n    ```bash\\n    pyenv install -v 3.10.4\\n    ```\\n\\n- Check your list for the installed python version:\\n\\n    ```bash\\n    ls ~/.pyenv/versions/\\n    ```\\n\\n    or by using\\n\\n    ```bash\\n    pyenv versions\\n    ```\\n\\n### Configuration - Using poetry for package and dependency management\\n\\n  *To use poetry, we will need to have ***python 3.5 or greater***.*'),\n",
       " ('/Users/jsilva/Documents/revent/revent-api',\n",
       "  '/Users/jsilva/Documents/revent/revent-api/README.md',\n",
       "  '- Now let\\'s start by always activating a virtual environment to work on when we open the project:\\n    If you need to get out of this virtual environment just type **deactivate**\\n\\n    ```bash\\n    poetry shell\\n    ```\\n\\n- You should have a file called pyproject.toml, with it we can install everything that is needed!\\n  Just a second, make sure you are on your project folder! Let\\'s go and install everything now:\\n\\n    ```bash\\n    poetry install\\n    ```\\n\\n    This is great! Right now, we have our packages installed!\\n\\n- One last thing! We still need to tell our IDE to use this new interpreter!\\nAlright, and how do we do this? Its easy, really. (This next steps will be for vscode)\\n\\n    1. Copy the path from the command below:\\n\\n        ```bash\\n        poetry env info --path\\n        ```\\n\\n    2. In your vscode, go to settings and search for python interpreter\\n\\n    3. Now select to use a specific path and use the one you just copied\\n    Press Enter and you\\'r done! Now vscode will use this one.\\n\\n### Running the Project\\n\\n*Now, how can we run the app?*\\n\\nTo start the docker container run\\n  ```bash\\n    make up\\n  ```\\nAfter that run the migrations if needed\\n  ```bash\\n    make migrate\\n  ```\\nFinally run the app\\n\\n  ```bash\\n    make run\\n  ```\\n\\nPerfect! You are now running the project locally and you can now start coding!\\n\\n## Running Tests\\n\\nTo run the tests, inside your working environment run:\\n  ```bash\\n    make test\\n  ```\\n\\nTo add tests remember that the python automatic discover only works properly for files named \"test_*.py\".\\n\\nIf you want to use the vscode debugger for a particular test you can use the launch.json.example, rename it launch.json\\nand place it in the .vscode folder in the root of your working directory.\\n\\n## Dummy data\\nTo generate dummy data ensure that the localstack is running and all the migrations are aplied and use the command:\\n\\n```bash\\n    make populate\\n  ```'),\n",
       " ('/Users/jsilva/Documents/revent/revent-api',\n",
       "  '/Users/jsilva/Documents/revent/revent-api/README.md',\n",
       "  \"## Dummy data\\nTo generate dummy data ensure that the localstack is running and all the migrations are aplied and use the command:\\n\\n```bash\\n    make populate\\n  ```\\n\\nThis command should only be used when the database is empty or it will probaly raise integraty errors related to duplicate\\nprimary keys.\\n\\n### TLDR;\\n\\nCheck what's available in the Makefile.\\n\\nPython 3.10.13 environment must exist and be active. Use poetry shell for this.\\n  ```bash\\n    make up\\n    make migrate\\n    make run\\n  ```\\n\\n### Setting up localstack s3 to fake Aws\\n\\nAfter you have installed Docker we will need to install AWS CLI. Even though we are simulating\\nthe AWS, we will require this to comunicate with the docker containers:\\n  1. Install [AWS CLI](https://aws.amazon.com/cli/)\\n  2. After it is installed we will need to supply credentials, even if the\\n    credentials are dummies. Localstack requires this details to be present. For that run the command:\\n      ```bash\\n        aws configure\\n      ```\\n\\nIn order to create a bucket you can just run the tests to verify everithing is working properly and it will be created automatically.\\n\\n### Nice to Have\\n\\nWell, hello there! If you are looking for automation, you have come to the right place!\\n\\n#### Direnv\\n\\nLooking for a way to start your venv by doing... nothing!?\\nI know i know, it looks almost like magic. Let me tell you about direnv\\n\\n- direnv will load and unload a virtual environment everytime we enter or leave the folder\\n  How do we install it? Let's take a look.\\n\\n    1. Let's start by creating an empty file called .envrc\\n\\n    2. Now we can download direnv [here](https://direnv.net/docs/installation.html)\\n\\n    3. Hook it into your shell like [this](https://direnv.net/docs/hook.html)\\n\\n    4. Alright and finally add the following to your .envrc:\\n\\n        `layout pyenv 3.10.4`\\n        Note: Everytime you edit your .envrc file direnv will ask you to give permission by typing:\\n        `direnv allow`\"),\n",
       " ('/Users/jsilva/Documents/revent/revent-api',\n",
       "  '/Users/jsilva/Documents/revent/revent-api/README.md',\n",
       "  '5. ***Important: Now that you changed for direnv replicate the python interpreter change that you did in poetry section***\\n\\n    6. Reload your shell and you\\'r set! Now you can leave your folder and come back inside to test if .direnv will show up (thats your new venv).\\n    Everytime you go into or out of your project folder .direnv will activate or deactivate!\\n## Guidelines\\n\\n### Branch Naming\\n\\nEverytime we need to work on a new feature, bug or any type of task, we need to create a new branch.\\nBelow will be a step by step guide on how we can create and start to work on a task:\\n\\nThe nomenclature for someone named \"João Gomes\" that need to fix a new \"Bug\" on a ticket with the ID \"1234\" and name \"Update salary\" goes like this:\\n\\n`jg/bug/1234/Update-salary`\\n\\n- jg - First and last name initials\\n\\n- bug - Type of task to be performed\\n\\n- 1234 - Ticket ID\\n\\n- Update-salary - Ticket name\\n\\n## Who do I talk to?\\n\\n- You can always talk to your Team Leader or the repo owner for any question regarding this project.\\n\\n## Data model\\n\\nThe data model for this project is as follows:\\n\\n```mermaid\\nclassDiagram\\n    User <|-- Collection\\n    User <|-- Picture\\n    PictureComment <|-- Picture\\n    Contest <|-- Picture\\n    Contest <|-- ContestSubmission\\n    Contest <|-- User\\n    ContestSubmission <|-- User\\n    PictureComment <|-- User\\n    Collection <|-- Picture\\n    ContestSubmission <|-- Picture\\n\\n    class User{\\n      +String email\\n      +String name_first\\n      +String name_last\\n      +Picture profile_picture\\n      +DateTime profile_picture_updated_at\\n      +String user_handle')]"
      ]
     },
     "execution_count": 23,
     "metadata": {},
     "output_type": "execute_result"
    }
   ],
   "source": [
    "similar_embeddings"
   ]
  },
  {
   "cell_type": "markdown",
   "metadata": {},
   "source": [
    "## Prompt"
   ]
  },
  {
   "cell_type": "code",
   "execution_count": 24,
   "metadata": {},
   "outputs": [],
   "source": [
    "from llm import get_prompt, prepare_context\n",
    "\n",
    "prompt = get_prompt(ISSUE)\n",
    "prepared_context = prepare_context(similar_embeddings, prompt)"
   ]
  },
  {
   "cell_type": "markdown",
   "metadata": {},
   "source": [
    "## LLM"
   ]
  },
  {
   "cell_type": "code",
   "execution_count": 25,
   "metadata": {},
   "outputs": [
    {
     "name": "stderr",
     "output_type": "stream",
     "text": [
      "DEBUG:httpx:load_ssl_context verify=True cert=None trust_env=True http2=False\n",
      "DEBUG:httpx:load_verify_locations cafile='/Users/jsilva/Library/Caches/pypoetry/virtualenvs/labs-_xSB_XeG-py3.12/lib/python3.12/site-packages/certifi/cacert.pem'\n",
      "DEBUG:httpcore.connection:connect_tcp.started host='localhost' port=11434 local_address=None timeout=None socket_options=None\n",
      "DEBUG:httpcore.connection:connect_tcp.complete return_value=<httpcore._backends.sync.SyncStream object at 0x1464b8710>\n",
      "DEBUG:httpcore.http11:send_request_headers.started request=<Request [b'POST']>\n",
      "DEBUG:httpcore.http11:send_request_headers.complete\n",
      "DEBUG:httpcore.http11:send_request_body.started request=<Request [b'POST']>\n",
      "DEBUG:httpcore.http11:send_request_body.complete\n",
      "DEBUG:httpcore.http11:receive_response_headers.started request=<Request [b'POST']>\n",
      "DEBUG:httpcore.http11:receive_response_headers.complete return_value=(b'HTTP/1.1', 200, b'OK', [(b'Content-Type', b'application/json; charset=utf-8'), (b'Date', b'Tue, 26 Nov 2024 12:04:49 GMT'), (b'Content-Length', b'525')])\n",
      "INFO:httpx:HTTP Request: POST http://localhost:11434/api/chat \"HTTP/1.1 200 OK\"\n",
      "DEBUG:httpcore.http11:receive_response_body.started request=<Request [b'POST']>\n",
      "DEBUG:httpcore.http11:receive_response_body.complete\n",
      "DEBUG:httpcore.http11:response_closed.started\n",
      "DEBUG:httpcore.http11:response_closed.complete\n",
      "DEBUG:llm:('starcoder2:15b-instruct', {'choices': [{'model': 'starcoder2:15b-instruct', 'created_at': '2024-11-26T12:04:44.855030345Z', 'message': {'role': 'assistant', 'content': '{\"steps\": [\\n  {\\n    \"type\": \"create\",\\n    \"path\": \"project_name/models.py\",\\n    \"content\": \"\"\\n  },\\n  {\\n    \"type\": \"create\",\\n    \"path\": \"project_name/tests/test_models.py\",\\n    \"content\": \"\"\\n  }\\n]}\\n\\n\\n\\n\\n       \\n\\n\\n       \\n\\n\\n\\n       \\n\\n\\n\\n       \\n\\n\\n\\n       \\n\\n\\n\\n       \\n\\n\\n\\n       \\n\\n\\n\\n       \\n\\n\\n\\n       \\n\\n\\n\\n       \\n'}, 'done': False}]})\n",
      "DEBUG:llm:('starcoder2:15b-instruct', {'choices': [{'model': 'starcoder2:15b-instruct', 'created_at': '2024-11-26T12:04:44.855030345Z', 'message': {'role': 'assistant', 'content': '{\"steps\": [\\n  {\\n    \"type\": \"create\",\\n    \"path\": \"project_name/models.py\",\\n    \"content\": \"\"\\n  },\\n  {\\n    \"type\": \"create\",\\n    \"path\": \"project_name/tests/test_models.py\",\\n    \"content\": \"\"\\n  }\\n]}\\n\\n\\n\\n\\n       \\n\\n\\n       \\n\\n\\n\\n       \\n\\n\\n\\n       \\n\\n\\n\\n       \\n\\n\\n\\n       \\n\\n\\n\\n       \\n\\n\\n\\n       \\n\\n\\n\\n       \\n\\n\\n\\n       \\n'}, 'done': False}]})\n",
      "DEBUG:llm:('starcoder2:15b-instruct', {'choices': [{'model': 'starcoder2:15b-instruct', 'created_at': '2024-11-26T12:04:44.855030345Z', 'message': {'role': 'assistant', 'content': '{\"steps\": [\\n  {\\n    \"type\": \"create\",\\n    \"path\": \"project_name/models.py\",\\n    \"content\": \"\"\\n  },\\n  {\\n    \"type\": \"create\",\\n    \"path\": \"project_name/tests/test_models.py\",\\n    \"content\": \"\"\\n  }\\n]}\\n\\n\\n\\n\\n       \\n\\n\\n       \\n\\n\\n\\n       \\n\\n\\n\\n       \\n\\n\\n\\n       \\n\\n\\n\\n       \\n\\n\\n\\n       \\n\\n\\n\\n       \\n\\n\\n\\n       \\n\\n\\n\\n       \\n'}, 'done': False}]})\n",
      "DEBUG:llm:('starcoder2:15b-instruct', {'choices': [{'model': 'starcoder2:15b-instruct', 'created_at': '2024-11-26T12:04:44.855030345Z', 'message': {'role': 'assistant', 'content': '{\"steps\": [\\n  {\\n    \"type\": \"create\",\\n    \"path\": \"project_name/models.py\",\\n    \"content\": \"\"\\n  },\\n  {\\n    \"type\": \"create\",\\n    \"path\": \"project_name/tests/test_models.py\",\\n    \"content\": \"\"\\n  }\\n]}\\n\\n\\n\\n\\n       \\n\\n\\n       \\n\\n\\n\\n       \\n\\n\\n\\n       \\n\\n\\n\\n       \\n\\n\\n\\n       \\n\\n\\n\\n       \\n\\n\\n\\n       \\n\\n\\n\\n       \\n\\n\\n\\n       \\n'}, 'done': False}]})\n"
     ]
    }
   ],
   "source": [
    "from litellm_service.llm_requester import Requester\n",
    "from litellm_service.ollama import OllamaRequester\n",
    "from llm import validate_llm_response\n",
    "\n",
    "requester = Requester(OllamaRequester, model=LLM_MODEL_NAME)\n",
    "llm_response = requester.completion_without_proxy(prepared_context)\n",
    "redo, redo_reason = validate_llm_response(llm_response)"
   ]
  },
  {
   "cell_type": "code",
   "execution_count": 34,
   "metadata": {},
   "outputs": [
    {
     "name": "stdout",
     "output_type": "stream",
     "text": [
      "nomic-embed-text:latest\n",
      "starcoder2:15b-instruct\n",
      "/Users/jsilva/Documents/revent/revent-api\n",
      "Add created_at and updated_at field to User model.\n",
      "{'steps': [{'content': '', 'path': 'project_name/models.py', 'type': 'create'},\n",
      "           {'content': '',\n",
      "            'path': 'project_name/tests/test_models.py',\n",
      "            'type': 'create'}]}\n"
     ]
    }
   ],
   "source": [
    "import json\n",
    "from pprint import pprint\n",
    "\n",
    "print(EMBEDDER_MODEL_NAME)\n",
    "print(LLM_MODEL_NAME)\n",
    "\n",
    "print(REPO)\n",
    "print(ISSUE)\n",
    "\n",
    "pprint(json.loads(llm_response[1][\"choices\"][0][\"message\"][\"content\"].replace(\"\\n\", \" \")))\n",
    "# pprint(llm_response[1][\"choices\"][0][\"message\"][\"content\"].replace(\"\\\\n\", \" \"))"
   ]
  }
 ],
 "metadata": {
  "kernelspec": {
   "display_name": "labs-_xSB_XeG-py3.12",
   "language": "python",
   "name": "python3"
  },
  "language_info": {
   "codemirror_mode": {
    "name": "ipython",
    "version": 3
   },
   "file_extension": ".py",
   "mimetype": "text/x-python",
   "name": "python",
   "nbconvert_exporter": "python",
   "pygments_lexer": "ipython3",
   "version": "3.12.6"
  }
 },
 "nbformat": 4,
 "nbformat_minor": 2
}
