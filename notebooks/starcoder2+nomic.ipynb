{
 "cells": [
  {
   "cell_type": "markdown",
   "metadata": {},
   "source": [
    "## Add source code folder to PATH"
   ]
  },
  {
   "cell_type": "code",
   "execution_count": null,
   "metadata": {},
   "source": [
    "import os\n",
    "import sys\n",
    "\n",
    "sys.path.append(os.path.abspath(\"../labs\"))"
   ],
   "outputs": []
  },
  {
   "cell_type": "markdown",
   "metadata": {},
   "source": [
    "## Django setup"
   ]
  },
  {
   "cell_type": "code",
   "execution_count": null,
   "metadata": {},
   "source": [
    "from django.core.wsgi import get_wsgi_application\n",
    "\n",
    "os.environ.setdefault(\"DJANGO_SETTINGS_MODULE\", \"config.settings\")\n",
    "os.environ.setdefault(\"DJANGO_ALLOW_ASYNC_UNSAFE\", \"True\")\n",
    "\n",
    "os.environ.setdefault(\"LOCAL_LLM_HOST\", \"http://localhost:11434\")\n",
    "os.environ.setdefault(\"DATABASE_HOST\", \"localhost\")\n",
    "\n",
    "application = get_wsgi_application()"
   ],
   "outputs": []
  },
  {
   "cell_type": "code",
   "execution_count": null,
   "metadata": {},
   "source": [
    "EMBEDDER_MODEL_NAME = \"nomic-embed-text:latest\"\n",
    "LLM_MODEL_NAME = \"starcoder2:15b-instruct\"\n",
    "\n",
    "REPO = \"REPLACE THIS WITH REPO PATH\"\n",
    "ISSUE = \"Add created_at and updated_at field to User model.\""
   ],
   "outputs": []
  },
  {
   "cell_type": "markdown",
   "metadata": {},
   "source": [
    "## Embeddings"
   ]
  },
  {
   "cell_type": "code",
   "execution_count": null,
   "metadata": {},
   "source": [
    "from embeddings.embedder import Embedder\n",
    "from embeddings.ollama import OllamaEmbedder\n",
    "\n",
    "embedder = Embedder(OllamaEmbedder, EMBEDDER_MODEL_NAME)"
   ],
   "outputs": []
  },
  {
   "cell_type": "markdown",
   "metadata": {},
   "source": [
    "## Vectorize"
   ]
  },
  {
   "cell_type": "code",
   "execution_count": null,
   "metadata": {},
   "source": [
    "from embeddings.vectorizers.chunk_vectorizer import ChunkVectorizer\n",
    "from embeddings.vectorizers.vectorizer import Vectorizer\n",
    "\n",
    "Vectorizer(ChunkVectorizer, embedder).vectorize_to_database(None, repo_destination=REPO)"
   ],
   "outputs": []
  },
  {
   "cell_type": "markdown",
   "metadata": {},
   "source": [
    "## Embeddings:lookup"
   ]
  },
  {
   "cell_type": "code",
   "execution_count": null,
   "metadata": {},
   "source": [
    "embeddings_results = embedder.retrieve_embeddings(ISSUE, REPO)\n",
    "\n",
    "similar_embeddings = [(embedding.repository, embedding.file_path, embedding.text) for embedding in embeddings_results]"
   ],
   "outputs": []
  },
  {
   "cell_type": "code",
   "execution_count": null,
   "metadata": {},
   "source": [
    "similar_embeddings"
   ],
   "outputs": []
  },
  {
   "cell_type": "markdown",
   "metadata": {},
   "source": [
    "## Prompt"
   ]
  },
  {
   "cell_type": "code",
   "execution_count": null,
   "metadata": {},
   "source": [
    "from tasks.llm import get_context, get_prompt\n",
    "\n",
    "prompt = get_prompt(ISSUE)\n",
    "prepared_context = get_context(similar_embeddings, prompt)"
   ],
   "outputs": []
  },
  {
   "cell_type": "markdown",
   "metadata": {},
   "source": [
    "## LLM"
   ]
  },
  {
   "cell_type": "code",
   "execution_count": null,
   "metadata": {},
   "source": [
    "from llm.ollama import OllamaRequester\n",
    "from llm.requester import Requester\n",
    "from tasks.checks import run_response_checks\n",
    "\n",
    "requester = Requester(OllamaRequester, model=LLM_MODEL_NAME)\n",
    "llm_response = requester.completion_without_proxy(prepared_context)\n",
    "redo, redo_reason = run_response_checks(llm_response)"
   ],
   "outputs": []
  },
  {
   "cell_type": "code",
   "execution_count": null,
   "metadata": {},
   "source": [
    "import json\n",
    "from pprint import pprint\n",
    "\n",
    "print(EMBEDDER_MODEL_NAME)\n",
    "print(LLM_MODEL_NAME)\n",
    "\n",
    "print(REPO)\n",
    "print(ISSUE)\n",
    "\n",
    "pprint(json.loads(llm_response[1][\"choices\"][0][\"message\"][\"content\"].replace(\"\\n\", \" \")))"
   ],
   "outputs": []
  }
 ],
 "metadata": {
  "kernelspec": {
   "display_name": "labs-_xSB_XeG-py3.12",
   "language": "python",
   "name": "python3"
  },
  "language_info": {
   "codemirror_mode": {
    "name": "ipython",
    "version": 3
   },
   "file_extension": ".py",
   "mimetype": "text/x-python",
   "name": "python",
   "nbconvert_exporter": "python",
   "pygments_lexer": "ipython3",
   "version": "3.12.6"
  }
 },
 "nbformat": 4,
 "nbformat_minor": 2
}
