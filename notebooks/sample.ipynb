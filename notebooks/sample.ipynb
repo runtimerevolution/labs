{
 "cells": [
  {
   "cell_type": "markdown",
   "metadata": {},
   "source": [
    "## Add source code folder to PATH"
   ]
  },
  {
   "cell_type": "code",
   "execution_count": null,
   "metadata": {
    "ExecuteTime": {
     "end_time": "2024-11-22T12:01:40.443207Z",
     "start_time": "2024-11-22T12:01:40.439141Z"
    }
   },
   "outputs": [],
   "source": [
    "import os\n",
    "import sys\n",
    "\n",
    "sys.path.append(os.path.abspath(\"../labs\"))"
   ]
  },
  {
   "cell_type": "markdown",
   "metadata": {},
   "source": [
    "## Django setup"
   ]
  },
  {
   "cell_type": "code",
   "execution_count": null,
   "metadata": {
    "ExecuteTime": {
     "end_time": "2024-11-22T12:01:46.930014Z",
     "start_time": "2024-11-22T12:01:41.930888Z"
    }
   },
   "outputs": [],
   "source": [
    "from django.core.wsgi import get_wsgi_application\n",
    "\n",
    "os.environ.setdefault(\"DJANGO_SETTINGS_MODULE\", \"config.settings\")\n",
    "os.environ.setdefault(\"DJANGO_ALLOW_ASYNC_UNSAFE\", \"True\")\n",
    "\n",
    "os.environ.setdefault(\"LOCAL_LLM_HOST\", \"http://localhost:11434\")\n",
    "os.environ.setdefault(\"DATABASE_HOST\", \"localhost\")\n",
    "\n",
    "application = get_wsgi_application()"
   ]
  },
  {
   "cell_type": "code",
   "execution_count": null,
   "metadata": {
    "ExecuteTime": {
     "end_time": "2024-11-22T12:02:10.641535Z",
     "start_time": "2024-11-22T12:02:10.637010Z"
    }
   },
   "outputs": [],
   "source": [
    "ISSUE = \"ADD YOUR ISSUE TEXT HERE\"\n",
    "EMBEDDER_MODEL_NAME = \"nomic-embed-text:latest\"\n",
    "LLM_MODEL_NAME = \"llama3.2:latest\"\n",
    "REPO = \".\""
   ]
  },
  {
   "cell_type": "markdown",
   "metadata": {},
   "source": [
    "## Embeddings"
   ]
  },
  {
   "cell_type": "code",
   "execution_count": null,
   "metadata": {
    "ExecuteTime": {
     "end_time": "2024-11-22T11:53:02.575132Z",
     "start_time": "2024-11-22T11:53:02.469957Z"
    }
   },
   "outputs": [],
   "source": [
    "from embeddings.embedder import Embedder\n",
    "from embeddings.ollama import OllamaEmbedder\n",
    "\n",
    "embedder = Embedder(OllamaEmbedder, EMBEDDER_MODEL_NAME)"
   ]
  },
  {
   "cell_type": "markdown",
   "metadata": {},
   "source": [
    "## Vectorize"
   ]
  },
  {
   "cell_type": "code",
   "execution_count": null,
   "metadata": {
    "ExecuteTime": {
     "end_time": "2024-11-22T11:53:07.347488Z",
     "start_time": "2024-11-22T11:53:03.690512Z"
    }
   },
   "outputs": [],
   "source": [
    "from embeddings.vectorizers.chunk_vectorizer import ChunkVectorizer\n",
    "from embeddings.vectorizers.vectorizer import Vectorizer\n",
    "\n",
    "Vectorizer(ChunkVectorizer, embedder).vectorize_to_database(None, repository_path=REPO)"
   ]
  },
  {
   "cell_type": "markdown",
   "metadata": {},
   "source": [
    "## Embeddings:lookup"
   ]
  },
  {
   "cell_type": "code",
   "execution_count": null,
   "metadata": {},
   "outputs": [],
   "source": [
    "embeddings_results = embedder.retrieve_file_paths(ISSUE, REPO)"
   ]
  },
  {
   "cell_type": "code",
   "execution_count": null,
   "metadata": {},
   "outputs": [],
   "source": [
    "embeddings_results"
   ]
  },
  {
   "cell_type": "markdown",
   "metadata": {},
   "source": [
    "## Prompt"
   ]
  },
  {
   "cell_type": "code",
   "execution_count": null,
   "metadata": {},
   "outputs": [],
   "source": [
    "from llm.context import get_context\n",
    "from llm.prompt import get_prompt\n",
    "\n",
    "prompt = get_prompt(ISSUE)\n",
    "prepared_context = get_context(embeddings_results, prompt)"
   ]
  },
  {
   "cell_type": "markdown",
   "metadata": {},
   "source": [
    "## LLM"
   ]
  },
  {
   "cell_type": "code",
   "execution_count": null,
   "metadata": {},
   "outputs": [],
   "source": [
    "from llm.ollama import OllamaRequester\n",
    "from llm.requester import Requester\n",
    "from tasks.checks import run_response_checks\n",
    "\n",
    "requester = Requester(OllamaRequester, model=LLM_MODEL_NAME)\n",
    "llm_response = requester.completion_without_proxy(prepared_context)\n",
    "redo, redo_reason = run_response_checks(llm_response)"
   ]
  },
  {
   "cell_type": "code",
   "execution_count": null,
   "metadata": {},
   "outputs": [],
   "source": [
    "from pprint import pprint\n",
    "\n",
    "pprint(llm_response[1][\"choices\"][0][\"message\"][\"content\"].replace(\"\\\\n\", \" \"))"
   ]
  }
 ],
 "metadata": {
  "kernelspec": {
   "display_name": "labs-v3TLoUxm-py3.11",
   "language": "python",
   "name": "python3"
  },
  "language_info": {
   "codemirror_mode": {
    "name": "ipython",
    "version": 3
   },
   "file_extension": ".py",
   "mimetype": "text/x-python",
   "name": "python",
   "nbconvert_exporter": "python",
   "pygments_lexer": "ipython3",
   "version": "3.11.7"
  }
 },
 "nbformat": 4,
 "nbformat_minor": 2
}
