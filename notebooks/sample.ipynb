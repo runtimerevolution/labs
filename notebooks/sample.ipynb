{
 "cells": [
  {
   "cell_type": "code",
   "execution_count": 1,
   "metadata": {},
   "outputs": [],
   "source": [
    "ISSUE=\"\"\n",
    "EMBEDDER_MODEL_NAME = 'nomic-embed-text:latest'\n",
    "LLM_MODEL_NAME = 'llama3.2:latest'\n",
    "REPO = '.'"
   ]
  },
  {
   "cell_type": "markdown",
   "metadata": {},
   "source": [
    "## Embeddings"
   ]
  },
  {
   "cell_type": "code",
   "execution_count": 2,
   "metadata": {},
   "outputs": [
    {
     "ename": "ModuleNotFoundError",
     "evalue": "No module named 'embeddings'",
     "output_type": "error",
     "traceback": [
      "\u001b[0;31m---------------------------------------------------------------------------\u001b[0m",
      "\u001b[0;31mModuleNotFoundError\u001b[0m                       Traceback (most recent call last)",
      "Cell \u001b[0;32mIn[2], line 1\u001b[0m\n\u001b[0;32m----> 1\u001b[0m \u001b[38;5;28;01mfrom\u001b[39;00m \u001b[38;5;21;01membeddings\u001b[39;00m\u001b[38;5;21;01m.\u001b[39;00m\u001b[38;5;21;01mollama\u001b[39;00m \u001b[38;5;28;01mimport\u001b[39;00m OllamaEmbedder\n\u001b[1;32m      3\u001b[0m embeedder \u001b[38;5;241m=\u001b[39m OllamaEmbedder(model\u001b[38;5;241m=\u001b[39mEMBEDDER_MODEL_NAME)\n",
      "\u001b[0;31mModuleNotFoundError\u001b[0m: No module named 'embeddings'"
     ]
    }
   ],
   "source": [
    "from embeddings.ollama import OllamaEmbedder\n",
    "\n",
    "embeedder = OllamaEmbedder(model=EMBEDDER_MODEL_NAME)"
   ]
  },
  {
   "cell_type": "markdown",
   "metadata": {},
   "source": [
    "## Vectorize"
   ]
  },
  {
   "cell_type": "code",
   "execution_count": null,
   "metadata": {},
   "outputs": [],
   "source": [
    "from embeddings.vectorizers.base import Vectorizer\n",
    "from embeddings.vectorizers.chunk_vectorizer import ChunkVectorizer\n",
    "\n",
    "vectorizer = ChunkVectorizer(embedder=embeedder)\n",
    "Vectorizer(vectorizer).vectorize_to_database(None, repo_destination=REPO)"
   ]
  },
  {
   "cell_type": "markdown",
   "metadata": {},
   "source": [
    "## Embeddings:lookup"
   ]
  },
  {
   "cell_type": "code",
   "execution_count": null,
   "metadata": {},
   "outputs": [],
   "source": [
    "embeddings_results = Embedder(OllamaEmbedder, EMBEDDER_MODEL_NAME).retrieve_embeddings(ISSUE)\n",
    "\n",
    "similar_embeddings = [\n",
    "        (embedding.repository, embedding.file_path, embedding.text) for embedding in embeddings_results\n",
    "    ]"
   ]
  },
  {
   "cell_type": "markdown",
   "metadata": {},
   "source": [
    "## Prompt"
   ]
  },
  {
   "cell_type": "code",
   "execution_count": null,
   "metadata": {},
   "outputs": [],
   "source": [
    "import json\n",
    "from llm import get_prompt, prepare_context\n",
    "\n",
    "\n",
    "prompt = get_prompt(ISSUE)\n",
    "prepared_context = prepare_context(similar_embeddings, prompt)"
   ]
  },
  {
   "cell_type": "markdown",
   "metadata": {},
   "source": [
    "## LLM"
   ]
  },
  {
   "cell_type": "code",
   "execution_count": null,
   "metadata": {},
   "outputs": [],
   "source": [
    "from litellm_service.llm_requester import Requester\n",
    "from litellm_service.ollama import OllamaRequester\n",
    "from llm import validate_llm_response\n",
    "\n",
    "\n",
    "requester = Requester(OllamaRequester, model=LLM_MODEL_NAME)\n",
    "llm_response = requester.completion_without_proxy(prepared_context)\n",
    "redo, redo_reason = validate_llm_response(llm_response)"
   ]
  },
  {
   "cell_type": "code",
   "execution_count": null,
   "metadata": {},
   "outputs": [],
   "source": [
    "llm_response"
   ]
  }
 ],
 "metadata": {
  "kernelspec": {
   "display_name": "labs-v3TLoUxm-py3.11",
   "language": "python",
   "name": "python3"
  },
  "language_info": {
   "codemirror_mode": {
    "name": "ipython",
    "version": 3
   },
   "file_extension": ".py",
   "mimetype": "text/x-python",
   "name": "python",
   "nbconvert_exporter": "python",
   "pygments_lexer": "ipython3",
   "version": "3.11.7"
  }
 },
 "nbformat": 4,
 "nbformat_minor": 2
}
